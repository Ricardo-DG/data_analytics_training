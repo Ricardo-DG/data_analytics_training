{
 "cells": [
  {
   "cell_type": "markdown",
   "metadata": {},
   "source": [
    "# Normalization methods\n",
    "\n",
    "This notebook is intended to provide a brief introduction to normalization methods (minmax, z-score/standard score, mean normalization).\n",
    "\n",
    "Normalization methods are commonly used to compare different datasets as they are rescaled to similar units that benefits the comparison."
   ]
  },
  {
   "cell_type": "markdown",
   "metadata": {},
   "source": [
    "## Minmax\n",
    "\n",
    "### Definition\n",
    "This is a type of scaling in with you can modify the dataset to be in certain limits (minimum and maximum).\n",
    "\n",
    "### Formula / Procedure to find it\n",
    "\n",
    "The default equation to perform this scaling (0,1) is as follows: $\\displaystyle N_{i} = \\frac{x_{i}-x_{min}}{x_{max}-x_{min}}$ <br>\n",
    "Another variation consists in the addition in another values to the equation so the final dataset is scaled to the desired values: $\\displaystyle N_{i} = (\\frac{x_{i}-x_{min}}{x_{max}-x_{min}}+N_{min})*(N_{max}-N_{min})$"
   ]
  },
  {
   "cell_type": "markdown",
   "metadata": {},
   "source": [
    "### Visualization"
   ]
  },
  {
   "cell_type": "code",
   "execution_count": null,
   "metadata": {},
   "outputs": [],
   "source": [
    "import numpy as np\n",
    "import pandas as pd\n",
    "import seaborn as sns\n",
    "import matplotlib.pyplot as plt\n",
    "import plotly.graph_objects as go\n",
    "from plotly.subplots import make_subplots"
   ]
  },
  {
   "cell_type": "markdown",
   "metadata": {},
   "source": [
    "### Creating the data set"
   ]
  },
  {
   "cell_type": "code",
   "execution_count": null,
   "metadata": {},
   "outputs": [],
   "source": [
    "data_set = [5,  2,  6, 10,  9,  3,  1,  9,  6,  2,  1,  4,  6,  5,  0,  4,  6,\n",
    "            5,  4,  6,  3,  0,  2,  8,  6,  7,  8,  0,  4,  7,  0,  1,  0,  8,\n",
    "            2,  0, 10,  2,  6,  6,  0,  5,  2,  0, 10,  3,  9,  8,  4,  7,  6,\n",
    "            1, 10,  7, 10,  3,  0,  6,  5,  8,  4,  3,  7,  3,  1,  5,  3,  0,\n",
    "            3,  3,  1,  2,  1,  5,  0,  5,  8,  1, 10,  7,  8,  6,  9,  3,  3,\n",
    "            7,  3,  4, 10,  8,  2,  0,  0,  2,  9,  0,  5,  5,  5,  6]"
   ]
  },
  {
   "cell_type": "markdown",
   "metadata": {},
   "source": [
    "All normalization methods can be visualized in 2D plots (Scatter) or boxplots."
   ]
  },
  {
   "cell_type": "code",
   "execution_count": null,
   "metadata": {},
   "outputs": [],
   "source": [
    "def minmax_single(x, d_min, d_max, n_min, n_max):\n",
    "    return (((x-d_min)/(d_max-d_min))*(n_max-n_min)+n_min)\n",
    "\n",
    "def minmax(data, n_min=0, n_max=1):\n",
    "    d_min = np.min(data)\n",
    "    d_max = np.max(data)\n",
    "    return np.array([minmax_single(x, d_min, d_max, n_min, n_max) for x in data])"
   ]
  },
  {
   "cell_type": "code",
   "execution_count": null,
   "metadata": {},
   "outputs": [],
   "source": [
    "minmax_data_set = minmax(data_set)"
   ]
  },
  {
   "cell_type": "code",
   "execution_count": null,
   "metadata": {},
   "outputs": [],
   "source": [
    "fig = go.Figure(data=go.Scatter(y=data_set, mode='markers+lines'))\n",
    "fig.update_layout(height=600, width=1000, title_text=f\"Distribution of data set\")\n",
    "fig.show()"
   ]
  },
  {
   "cell_type": "code",
   "execution_count": null,
   "metadata": {},
   "outputs": [],
   "source": [
    "fig = make_subplots(rows=1, cols=2)\n",
    "\n",
    "fig.add_trace(\n",
    "    go.Scatter(y=data_set,\n",
    "               name=\"original data_set\"),\n",
    "    row=1, col=1\n",
    ")\n",
    "\n",
    "fig.add_trace(\n",
    "    go.Scatter(x=[0, 99], y=[np.min(data_set), np.min(data_set)],\n",
    "               name=\"original min\"),\n",
    "    row=1, col=1\n",
    ")\n",
    "\n",
    "fig.add_trace(\n",
    "    go.Scatter(x=[0, 99], y=[np.max(data_set), np.max(data_set)],\n",
    "               name=\"original max\"),\n",
    "    row=1, col=1\n",
    ")\n",
    "\n",
    "fig.add_trace(\n",
    "    go.Scatter(y=minmax_data_set,\n",
    "               name=\"minmax data_set\"),\n",
    "    row=1, col=2\n",
    ")\n",
    "\n",
    "fig.add_trace(\n",
    "    go.Scatter(x=[0, 99], y=[np.min(minmax_data_set), np.min(minmax_data_set)],\n",
    "               name=\"minmax min\"),\n",
    "    row=1, col=2\n",
    ")\n",
    "\n",
    "fig.add_trace(\n",
    "    go.Scatter(x=[0, 99], y=[np.max(minmax_data_set), np.max(minmax_data_set)],\n",
    "               name=\"minmax max\"),\n",
    "    row=1, col=2\n",
    ")\n",
    "\n",
    "fig.update_layout(height=600, width=1000, title_text=f\"Compare original vs minmax dataset\")\n",
    "fig.show()"
   ]
  },
  {
   "cell_type": "code",
   "execution_count": null,
   "metadata": {},
   "outputs": [],
   "source": [
    "plt.figure(figsize=(16,8))\n",
    "\n",
    "plt.subplot(2,1,1)\n",
    "plt.boxplot(data_set, 'h', vert=False)\n",
    "plt.vlines(x=np.min(data_set), ymin=0.9, ymax=1.1, colors='r')\n",
    "plt.vlines(x=np.max(data_set), ymin=0.9, ymax=1.1, colors='r')\n",
    "plt.ylim([0.9,1.1])\n",
    "plt.title(f\"Boxplot of data set - Min: {np.min(data_set)} - Max: {np.max(data_set)}\")\n",
    "\n",
    "plt.subplot(2,1,2)\n",
    "plt.boxplot(minmax_data_set, 'h', vert=False)\n",
    "plt.vlines(x=np.min(minmax_data_set), ymin=0.9, ymax=1.1, colors='r')\n",
    "plt.vlines(x=np.max(minmax_data_set), ymin=0.9, ymax=1.1, colors='r')\n",
    "plt.ylim([0.9,1.1])\n",
    "plt.title(f\"Boxplot of data set - Min: {np.min(minmax_data_set)} - Max: {np.max(minmax_data_set)}\")\n",
    "\n",
    "plt.show()"
   ]
  },
  {
   "cell_type": "markdown",
   "metadata": {},
   "source": [
    "## Z-Score / Standard Score\n",
    "\n",
    "### Definition\n",
    "Z-score normalization isn't just a scaling method. It also performs a transformation in the distribution of the data points.\n",
    "That is due the inclusion of terms as Mean and Standard Deviation in the equation. <br>\n",
    "Some features of z-score is that the final dataset has a Mean equals to 0 and a Standard Deviation of 1. This is particularly useful for machine learning applications.\n",
    "\n",
    "### Formula / Procedure to find it\n",
    "\n",
    "To obtain the z-score normalization you must perform the next equation: $\\displaystyle Z_{i} = \\frac{x_{i} - \\mu}{\\sigma}$ <br>\n",
    "Being $\\mu$: Mean <br>\n",
    "&emsp;&emsp;&emsp;$\\sigma$: Standard Deviation"
   ]
  },
  {
   "cell_type": "markdown",
   "metadata": {},
   "source": [
    "### Creating the data set"
   ]
  },
  {
   "cell_type": "markdown",
   "metadata": {},
   "source": [
    "We will be using the same dataset (previously created)."
   ]
  },
  {
   "cell_type": "code",
   "execution_count": null,
   "metadata": {},
   "outputs": [],
   "source": [
    "def zscore_single(x, d_mean, d_std):\n",
    "    return (x-d_mean)/d_std\n",
    "\n",
    "def zscore(data):\n",
    "    d_mean = np.mean(data)\n",
    "    d_std = np.std(data)\n",
    "    return np.array([zscore_single(x, d_mean, d_std) for x in data])"
   ]
  },
  {
   "cell_type": "code",
   "execution_count": null,
   "metadata": {},
   "outputs": [],
   "source": [
    "zscore_data_set = zscore(data_set)"
   ]
  },
  {
   "cell_type": "code",
   "execution_count": null,
   "metadata": {},
   "outputs": [],
   "source": [
    "fig = go.Figure(data=go.Scatter(y=data_set, mode='markers+lines'))\n",
    "fig.update_layout(height=600, width=1000, title_text=f\"Distribution of data set\")\n",
    "fig.show()"
   ]
  },
  {
   "cell_type": "code",
   "execution_count": null,
   "metadata": {},
   "outputs": [],
   "source": [
    "fig = make_subplots(rows=1, cols=2)\n",
    "\n",
    "fig.add_trace(\n",
    "    go.Scatter(y=data_set,\n",
    "               name=\"original data_set\"),\n",
    "    row=1, col=1\n",
    ")\n",
    "\n",
    "fig.add_trace(\n",
    "    go.Scatter(x=[0, 99], y=[np.min(data_set), np.min(data_set)],\n",
    "               name=\"original min\"),\n",
    "    row=1, col=1\n",
    ")\n",
    "\n",
    "fig.add_trace(\n",
    "    go.Scatter(x=[0, 99], y=[np.max(data_set), np.max(data_set)],\n",
    "               name=\"original max\"),\n",
    "    row=1, col=1\n",
    ")\n",
    "\n",
    "fig.add_trace(\n",
    "    go.Scatter(y=zscore_data_set,\n",
    "               name=\"z-score data_set\"),\n",
    "    row=1, col=2\n",
    ")\n",
    "\n",
    "fig.add_trace(\n",
    "    go.Scatter(x=[0, 99], y=[np.min(zscore_data_set), np.min(zscore_data_set)],\n",
    "               name=\"z-score min\"),\n",
    "    row=1, col=2\n",
    ")\n",
    "\n",
    "fig.add_trace(\n",
    "    go.Scatter(x=[0, 99], y=[np.max(zscore_data_set), np.max(zscore_data_set)],\n",
    "               name=\"z-score max\"),\n",
    "    row=1, col=2\n",
    ")\n",
    "\n",
    "fig.add_trace(\n",
    "    go.Scatter(x=[0, 99], y=[np.mean(zscore_data_set), np.mean(zscore_data_set)],\n",
    "               name=\"z-score mean\"),\n",
    "    row=1, col=2\n",
    ")\n",
    "\n",
    "fig.update_layout(height=600, width=1000,\n",
    "                  title_text=f\"Z-score (Right): Mean: {np.round(np.mean(zscore_data_set),1)}: Std: {np.std(zscore_data_set)}\")\n",
    "fig.show()"
   ]
  },
  {
   "cell_type": "markdown",
   "metadata": {},
   "source": [
    "Note: Z-score lets you observe the concept of MEAN and Standard Deviation easier. All the data points are around Zero (the mean) and distributed equaly around +/- 1 (standard deviation)."
   ]
  },
  {
   "cell_type": "code",
   "execution_count": null,
   "metadata": {},
   "outputs": [],
   "source": [
    "plt.figure(figsize=(16,8))\n",
    "plt.subplot(2,1,1)\n",
    "sns.distplot(data_set)\n",
    "plt.vlines(x=np.mean(data_set), ymin=0, ymax=0.35, colors='r')\n",
    "plt.vlines(x=np.median(data_set), ymin=0, ymax=0.35, colors='g')\n",
    "plt.ylim([0,0.12])\n",
    "plt.legend([\"Mean\", \"Median\",\"Distribution\"])\n",
    "plt.title(f\"Distribution of data set\")\n",
    "\n",
    "plt.subplot(2,1,2)\n",
    "sns.distplot(zscore_data_set)\n",
    "plt.vlines(x=np.mean(zscore_data_set), ymin=0, ymax=0.35, colors='r')\n",
    "plt.vlines(x=np.median(zscore_data_set), ymin=0, ymax=0.35, colors='g')\n",
    "plt.ylim([0,0.35])\n",
    "plt.legend([\"Mean\", \"Median\",\"Distribution\"])\n",
    "plt.title(f\"Distribution of z-score data set\")\n",
    "\n",
    "plt.show()"
   ]
  },
  {
   "cell_type": "markdown",
   "metadata": {},
   "source": [
    "## Mean normalization\n",
    "\n",
    "### Definition\n",
    "Variance is the expectation of the squared deviation of a random variable from its mean. Informally, it measures how far a set of numbers is spread out from their average value. Variance is important to get the normal distribution of a dataset. It is hard to use variance in most applications, so we use standard deviation. But variance has some advantages in the field of math theory. Also for the correlation of variables it is fundamental.\n",
    "\n",
    "### Formula / Procedure to find it\n",
    "\n",
    "To find the variance you must perform the next equation: $\\displaystyle \\sigma^2 = \\frac{\\sum\\mid x - \\bar{x}\\mid^2}{n}$"
   ]
  },
  {
   "cell_type": "markdown",
   "metadata": {},
   "source": [
    "We will be using the first data set (the one used in RANGE and STANDARD DEVIATION section).<br>"
   ]
  },
  {
   "cell_type": "code",
   "execution_count": null,
   "metadata": {},
   "outputs": [],
   "source": [
    "def mean_norm_single(x, d_mean, d_min, d_max):\n",
    "    return (x-d_mean)/(d_max - d_min)\n",
    "\n",
    "def mean_norm(data):\n",
    "    d_mean = np.mean(data)\n",
    "    d_min = np.min(data)\n",
    "    d_max = np.max(data)\n",
    "    return np.array([mean_norm_single(x, d_mean, d_min, d_max) for x in data])"
   ]
  },
  {
   "cell_type": "code",
   "execution_count": null,
   "metadata": {},
   "outputs": [],
   "source": [
    "mean_data_set = mean_norm(data_set)"
   ]
  },
  {
   "cell_type": "code",
   "execution_count": null,
   "metadata": {},
   "outputs": [],
   "source": [
    "fig = go.Figure(data=go.Scatter(y=data_set, mode='markers+lines'))\n",
    "fig.update_layout(height=600, width=1000, title_text=f\"Distribution of data set\")\n",
    "fig.show()"
   ]
  },
  {
   "cell_type": "code",
   "execution_count": null,
   "metadata": {},
   "outputs": [],
   "source": [
    "fig = make_subplots(rows=1, cols=2)\n",
    "\n",
    "fig.add_trace(\n",
    "    go.Scatter(y=data_set,\n",
    "               name=\"original data_set\"),\n",
    "    row=1, col=1\n",
    ")\n",
    "\n",
    "fig.add_trace(\n",
    "    go.Scatter(x=[0, 99], y=[np.min(data_set), np.min(data_set)],\n",
    "               name=\"original min\"),\n",
    "    row=1, col=1\n",
    ")\n",
    "\n",
    "fig.add_trace(\n",
    "    go.Scatter(x=[0, 99], y=[np.max(data_set), np.max(data_set)],\n",
    "               name=\"original max\"),\n",
    "    row=1, col=1\n",
    ")\n",
    "\n",
    "fig.add_trace(\n",
    "    go.Scatter(y=mean_data_set,\n",
    "               name=\"mean data_set\"),\n",
    "    row=1, col=2\n",
    ")\n",
    "\n",
    "fig.add_trace(\n",
    "    go.Scatter(x=[0, 99], y=[np.min(mean_data_set), np.min(mean_data_set)],\n",
    "               name=\"mean min\"),\n",
    "    row=1, col=2\n",
    ")\n",
    "\n",
    "fig.add_trace(\n",
    "    go.Scatter(x=[0, 99], y=[np.max(mean_data_set), np.max(mean_data_set)],\n",
    "               name=\"mean max\"),\n",
    "    row=1, col=2\n",
    ")\n",
    "\n",
    "fig.add_trace(\n",
    "    go.Scatter(x=[0, 99], y=[np.mean(mean_data_set), np.mean(mean_data_set)],\n",
    "               name=\"mean mean\"),\n",
    "    row=1, col=2\n",
    ")\n",
    "\n",
    "fig.update_layout(height=600, width=1000,\n",
    "                  title_text=f\"Mean Norm (Right): Mean: {np.round(np.mean(mean_data_set),1)}: Std: {np.std(mean_data_set)}\")\n",
    "fig.show()"
   ]
  },
  {
   "cell_type": "code",
   "execution_count": null,
   "metadata": {},
   "outputs": [],
   "source": [
    "plt.figure(figsize=(16,8))\n",
    "plt.subplot(2,1,1)\n",
    "sns.distplot(data_set)\n",
    "plt.vlines(x=np.mean(data_set), ymin=0, ymax=0.35, colors='r')\n",
    "plt.vlines(x=np.median(data_set), ymin=0, ymax=0.35, colors='g')\n",
    "plt.ylim([0,0.12])\n",
    "plt.legend([\"Mean\", \"Median\",\"Distribution\"])\n",
    "plt.title(f\"Distribution of data set\")\n",
    "\n",
    "plt.subplot(2,1,2)\n",
    "sns.distplot(mean_data_set)\n",
    "plt.vlines(x=np.mean(mean_data_set), ymin=0, ymax=1.6, colors='r')\n",
    "plt.vlines(x=np.median(mean_data_set), ymin=0, ymax=1.6, colors='g')\n",
    "plt.ylim([0,1.6])\n",
    "plt.legend([\"Mean\", \"Median\",\"Distribution\"])\n",
    "plt.title(f\"Distribution of mean data set\")\n",
    "\n",
    "plt.show()"
   ]
  },
  {
   "cell_type": "markdown",
   "metadata": {},
   "source": [
    "In the case of mean norm, the resulting plot for distribution of probabilities ends up different. This may be due to the number of bins but looking at the actual distribution area they are actually the same."
   ]
  },
  {
   "cell_type": "markdown",
   "metadata": {},
   "source": [
    "## Excercise\n",
    "\n",
    "You can test your learning of the introduction of central tendency measures next:"
   ]
  },
  {
   "cell_type": "code",
   "execution_count": null,
   "metadata": {},
   "outputs": [],
   "source": [
    "class test:\n",
    "    def __init__(self):\n",
    "        self.questions = list()\n",
    "        self.answers = list()\n",
    "        self.correct_answers = 0\n",
    "        self.score = 0\n",
    "\n",
    "    def add_element(self, q, a):\n",
    "        self.questions.append(q)\n",
    "        self.answers.append(a)\n",
    "\n",
    "    def remove_element(self, index):\n",
    "        self.questions.pop(index)\n",
    "        self.answers.pop(index)\n",
    "        \n",
    "    def show_answer(self, index):\n",
    "        print(f\"Q{index}: {self.questions[index-1]} - Ans_{index}: {self.answers[index-1]}\")\n",
    "    \n",
    "    def show_answers(self):\n",
    "        for index, (q, a) in enumerate(zip(self.questions, self.answers)):\n",
    "            print(f\"Q{index+1}: {q} - Ans_{index+1}: {a}\")\n",
    "    \n",
    "    def build_from_csv(self, filename):\n",
    "        df = pd.read_csv(filename)\n",
    "        for index in range(df.shape[0]):\n",
    "            self.add_element(df['Questions'][index], df['Answers'][index])\n",
    "    \n",
    "    def visualize_score(self):\n",
    "        fig = go.Figure(data=[go.Pie(labels=[\"Correct\", \"Incorrect\"],\n",
    "                                     values=[self.score, 100-self.score],\n",
    "                                     marker_colors=['rgb(10,100,10)', 'rgb(230,70,70)'],\n",
    "                                     hole=.3)])\n",
    "        fig.show()\n",
    "\n",
    "    def test(self):\n",
    "        self.correct_answers = 0\n",
    "        for index, (q, a) in enumerate(zip(self.questions, self.answers)):\n",
    "            current_answer = ''\n",
    "            while len(str(current_answer))==0:\n",
    "                current_answer = input(f\"Q{index+1}: \" + q)\n",
    "                if len(current_answer)>0:\n",
    "                    current_answer = np.round(float(current_answer),2)\n",
    "                    self.correct_answers += int(current_answer == a)\n",
    "                    if a==current_answer:\n",
    "                        print(\"Correct\")\n",
    "                    else:\n",
    "                        print(\"Incorrect\")\n",
    "        self.score =  100*np.sum(self.correct_answers)/len(self.questions)\n",
    "        \n",
    "        print(f\"Your score: {self.score}\")\n",
    "        self.visualize_score()"
   ]
  },
  {
   "cell_type": "code",
   "execution_count": null,
   "metadata": {},
   "outputs": [],
   "source": [
    "exam = test()\n",
    "exam.build_from_csv(\"https://raw.githubusercontent.com/Ricardo-DG/data_analytics_training/main/normalization_test.csv\")"
   ]
  },
  {
   "cell_type": "code",
   "execution_count": null,
   "metadata": {},
   "outputs": [],
   "source": [
    "# If you would like to see the answers uncomment and run the following line\n",
    "\n",
    "# exam.show_answers()"
   ]
  },
  {
   "cell_type": "code",
   "execution_count": null,
   "metadata": {},
   "outputs": [],
   "source": [
    "# If you would like to see a specific answer uncomment and run the following line\n",
    "# (make sure to replace \"index\" with the number of the question you want to know the answer).\n",
    "\n",
    "# exam.show_answer(index)"
   ]
  },
  {
   "cell_type": "code",
   "execution_count": null,
   "metadata": {},
   "outputs": [],
   "source": [
    "score = exam.test()"
   ]
  }
 ],
 "metadata": {
  "kernelspec": {
   "display_name": "Python 3",
   "language": "python",
   "name": "python3"
  },
  "language_info": {
   "codemirror_mode": {
    "name": "ipython",
    "version": 3
   },
   "file_extension": ".py",
   "mimetype": "text/x-python",
   "name": "python",
   "nbconvert_exporter": "python",
   "pygments_lexer": "ipython3",
   "version": "3.7.4"
  }
 },
 "nbformat": 4,
 "nbformat_minor": 2
}
