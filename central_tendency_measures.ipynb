{
 "cells": [
  {
   "cell_type": "markdown",
   "metadata": {},
   "source": [
    "# Central Tendency Measures\n",
    "\n",
    "This notebook is intended to provide a brief introduction to the central tendency measures (mean, mode, median).\n",
    "\n",
    "The central tendency measures are intended to summarize in one value the whole data points and they give a hint of where are located those points around a center (being this center the central tendency measure)."
   ]
  },
  {
   "cell_type": "markdown",
   "metadata": {},
   "source": [
    "## Mean\n",
    "\n",
    "### Definition\n",
    "The mean (also called the expected value or average) is the central value of a discrete set of numbers: specifically, the sum of the values divided by the number of values.\n",
    "\n",
    "- Sample mean: $\\bar {x}$ (Mean of sample data taken from the whole population). <br>\n",
    "- Population mean: $\\mu$ (Mean of the whole population).\n",
    "\n",
    "### Formula / Procedure to find it\n",
    "\n",
    "The equation to get the mean is shown next: $\\displaystyle \\mu = \\frac{\\sum x_{i}}{n}$ <br>\n",
    "Being $x_{i}$: Data points <br>\n",
    "&emsp;&emsp;&ensp; $n$: Amount of data points"
   ]
  },
  {
   "cell_type": "markdown",
   "metadata": {},
   "source": [
    "### Visualization"
   ]
  },
  {
   "cell_type": "code",
   "execution_count": null,
   "metadata": {},
   "outputs": [],
   "source": [
    "import numpy as np\n",
    "import pandas as pd\n",
    "import plotly.graph_objects as go\n",
    "from plotly.subplots import make_subplots"
   ]
  },
  {
   "cell_type": "markdown",
   "metadata": {},
   "source": [
    "### Creating the data set"
   ]
  },
  {
   "cell_type": "code",
   "execution_count": null,
   "metadata": {},
   "outputs": [],
   "source": [
    "data_set = [5,  2,  6, 10,  9,  3,  1,  9,  6,  2,  1,  4,  6,  5,  0,  4,  6,\n",
    "            5,  4,  6,  3,  0,  2,  8,  6,  7,  8,  0,  4,  7,  0,  1,  0,  8,\n",
    "            2,  0, 10,  2,  6,  6,  0,  5,  2,  0, 10,  3,  9,  8,  4,  7,  6,\n",
    "            1, 10,  7, 10,  3,  0,  6,  5,  8,  4,  3,  7,  3,  1,  5,  3,  0,\n",
    "            3,  3,  1,  2,  1,  5,  0,  5,  8,  1, 10,  7,  8,  6,  9,  3,  3,\n",
    "            7,  3,  4, 10,  8,  2,  0,  0,  2,  9,  0,  5,  5,  5,  6]"
   ]
  },
  {
   "cell_type": "markdown",
   "metadata": {},
   "source": [
    "The mean can be visualized in different ways, through distribution plots, two-dimensional plots, one-dimensional plots, ... <br>\n",
    "But all of them shows a value that represents the center where all other values in a distribution are spread around."
   ]
  },
  {
   "cell_type": "code",
   "execution_count": null,
   "metadata": {},
   "outputs": [],
   "source": [
    "fig = go.Figure(data=go.Scatter(y=data_set, mode='markers+lines'))\n",
    "fig.update_layout(height=600, width=1000, title_text=f\"Distribution of data set\")\n",
    "fig.show()"
   ]
  },
  {
   "cell_type": "code",
   "execution_count": null,
   "metadata": {},
   "outputs": [],
   "source": [
    "fig = make_subplots(rows=2, cols=1)\n",
    "\n",
    "fig.add_trace(\n",
    "    go.Scatter(y=data_set,\n",
    "               name=\"2D data_set\"),\n",
    "    row=1, col=1\n",
    ")\n",
    "\n",
    "fig.add_trace(\n",
    "    go.Scatter(x=[0, 99], y=[np.mean(data_set), np.mean(data_set)],\n",
    "               name=\"2D mean\"),\n",
    "    row=1, col=1\n",
    ")\n",
    "\n",
    "fig.add_trace(\n",
    "    go.Scatter(x=data_set, y=np.zeros(len(data_set)),\n",
    "               mode='markers',\n",
    "               name=\"1D data_set\"),\n",
    "    row=2, col=1\n",
    ")\n",
    "\n",
    "fig.add_trace(\n",
    "    go.Scatter(x=[np.mean(data_set)], y=[0],\n",
    "               mode='markers',\n",
    "               name=\"1D mean\"),\n",
    "    row=2, col=1\n",
    ")\n",
    "\n",
    "fig.update_layout(height=600, width=1000, title_text=f\"Distribution of data set - Mean: {np.mean(data_set)}\")\n",
    "fig.show()"
   ]
  },
  {
   "cell_type": "markdown",
   "metadata": {},
   "source": [
    "Note: Good representations of MEAN are 1d, 2D and distribution plots."
   ]
  },
  {
   "cell_type": "code",
   "execution_count": null,
   "metadata": {},
   "outputs": [],
   "source": [
    "import seaborn as sns\n",
    "import matplotlib.pyplot as plt\n",
    "\n",
    "plt.figure(figsize=(16,8))\n",
    "plt.subplot(2,1,1)\n",
    "sns.distplot(data_set)\n",
    "plt.vlines(x=np.mean(data_set), ymin=0, ymax=0.12, colors='r')\n",
    "plt.ylim([0,0.12])\n",
    "plt.legend([\"Mean\", \"Distribution\"])\n",
    "plt.title(f\"Distribution of data set - Mean: {np.mean(data_set)}\")\n",
    "\n",
    "plt.subplot(2,1,2)\n",
    "plt.boxplot(data_set, 'h', vert=False)\n",
    "plt.vlines(x=np.mean(data_set), ymin=0.9, ymax=1.1, colors='r')\n",
    "plt.ylim([0.9,1.1])\n",
    "plt.title(f\"Boxplot of data set - Mean: {np.mean(data_set)}\")\n",
    "plt.show()"
   ]
  },
  {
   "cell_type": "markdown",
   "metadata": {},
   "source": [
    "## Median\n",
    "\n",
    "### Definition\n",
    "Denoting or relating to a value or quantity lying at the midpoint of a frequency distribution of observed values or quantities, such that there is an equal probability of falling above or below it.\n",
    "\n",
    "### Formula / Procedure to find it\n",
    "\n",
    "To find the median:<br>\n",
    "- Arrange the data points from smallest to largest.\n",
    "- If the number of data points is odd, the median is the middle data point in the list.\n",
    "- If the number of data points is even, the median is the average of the two middle data points in the list."
   ]
  },
  {
   "cell_type": "markdown",
   "metadata": {},
   "source": [
    "### Creating the data set"
   ]
  },
  {
   "cell_type": "code",
   "execution_count": null,
   "metadata": {},
   "outputs": [],
   "source": [
    "data_set_median = np.sort(data_set)"
   ]
  },
  {
   "cell_type": "markdown",
   "metadata": {},
   "source": [
    "Following the procedure to find the median we sorted the dataset.<br>\n",
    "In this case the number of data points is even: 100 <br>\n",
    "So we take the two middle data points (index 49 and 50) and average to get the median."
   ]
  },
  {
   "cell_type": "code",
   "execution_count": null,
   "metadata": {},
   "outputs": [],
   "source": [
    "print(f\"Index 49: {data_set_median[49]}\\nIndex 50: {data_set_median[50]}\\nAverage: {np.mean(data_set_median[49:51])}\")"
   ]
  },
  {
   "cell_type": "code",
   "execution_count": null,
   "metadata": {},
   "outputs": [],
   "source": [
    "fig = go.Figure(data=go.Scatter(y=data_set_median, mode='markers+lines'))\n",
    "fig.update_layout(height=600, width=1000, title_text=f\"Distribution of data set\")\n",
    "fig.show()"
   ]
  },
  {
   "cell_type": "code",
   "execution_count": null,
   "metadata": {},
   "outputs": [],
   "source": [
    "fig = make_subplots(rows=1, cols=1)\n",
    "\n",
    "fig.add_trace(\n",
    "    go.Scatter(y=data_set_median,\n",
    "               name=\"data_set\"),\n",
    "    row=1, col=1\n",
    ")\n",
    "\n",
    "fig.add_trace(\n",
    "    go.Scatter(x=[0, 99], y=[np.median(data_set_median), np.median(data_set_median)],\n",
    "               name=\"median\"),\n",
    "    row=1, col=1\n",
    ")\n",
    "\n",
    "fig.update_layout(height=600, width=1000, title_text=f\"Distribution of data set - Median: {np.median(data_set_median)}\")\n",
    "fig.show()"
   ]
  },
  {
   "cell_type": "code",
   "execution_count": null,
   "metadata": {},
   "outputs": [],
   "source": [
    "plt.figure(figsize=(16,8))\n",
    "plt.subplot(2,1,1)\n",
    "sns.distplot(data_set_median)\n",
    "plt.vlines(x=np.median(data_set_median), ymin=0, ymax=0.12, colors='r')\n",
    "plt.ylim([0,0.12])\n",
    "plt.legend([\"Median\", \"Distribution\"])\n",
    "plt.title(f\"Distribution of data set - Mean: {np.mean(data_set_median)}\")\n",
    "\n",
    "plt.subplot(2,1,2)\n",
    "plt.boxplot(data_set_median, 'h', vert=False)\n",
    "plt.vlines(x=np.median(data_set_median), ymin=0.9, ymax=1.1, colors='r')\n",
    "plt.ylim([0.9,1.1])\n",
    "plt.title(f\"Boxplot of data set - Median: {np.median(data_set_median)}\")\n",
    "plt.show()"
   ]
  },
  {
   "cell_type": "markdown",
   "metadata": {},
   "source": [
    "Note: Boxplots are a good way to observe the MEDIAN."
   ]
  },
  {
   "cell_type": "markdown",
   "metadata": {},
   "source": [
    "## Mode\n",
    "\n",
    "### Definition\n",
    "The mode is the most commonly occurring data point in a dataset. The mode is useful when there are a lot of repeated values in a dataset.\n",
    "\n",
    "### Formula / Procedure to find it\n",
    "\n",
    "To find the mode you just have to:\n",
    "- Determine the unique values in a data set.\n",
    "- Count the amount of occurences of each unique value in the dataset."
   ]
  },
  {
   "cell_type": "markdown",
   "metadata": {},
   "source": [
    "We will be using the first data set (the one used in MEAN section).<br>\n",
    "We will be using scipy and collections as numpy does not have a module to get the mode."
   ]
  },
  {
   "cell_type": "code",
   "execution_count": null,
   "metadata": {},
   "outputs": [],
   "source": [
    "from scipy import stats\n",
    "\n",
    "mode_result = stats.mode(data_set)\n",
    "mode = mode_result[0][0]\n",
    "print(f\"{mode_result}\\nMode: {mode}\")"
   ]
  },
  {
   "cell_type": "code",
   "execution_count": null,
   "metadata": {},
   "outputs": [],
   "source": [
    "from collections import Counter\n",
    "\n",
    "mode_counts = Counter(data_set)\n",
    "mode_counts"
   ]
  },
  {
   "cell_type": "code",
   "execution_count": null,
   "metadata": {},
   "outputs": [],
   "source": [
    "plt.figure(figsize=(16,8))\n",
    "sns.barplot(list(mode_counts.keys()), list(mode_counts.values()))\n",
    "plt.title(f\"Counts of unique values - Mode: {mode}\")\n",
    "plt.show()"
   ]
  },
  {
   "cell_type": "markdown",
   "metadata": {},
   "source": [
    "Note: Bar plots makes easier to observe the MODE."
   ]
  },
  {
   "cell_type": "code",
   "execution_count": null,
   "metadata": {},
   "outputs": [],
   "source": [
    "plt.figure(figsize=(16,8))\n",
    "plt.subplot(2,1,1)\n",
    "sns.distplot(data_set_median)\n",
    "plt.vlines(x=mode, ymin=0, ymax=0.12, colors='r')\n",
    "plt.ylim([0,0.12])\n",
    "plt.legend([\"Mode\", \"Distribution\"])\n",
    "plt.title(f\"Distribution of data set - Mode: {mode}\")\n",
    "\n",
    "plt.subplot(2,1,2)\n",
    "plt.boxplot(data_set_median, 'h', vert=False)\n",
    "plt.vlines(x=mode, ymin=0.9, ymax=1.1, colors='r')\n",
    "plt.ylim([0.9,1.1])\n",
    "plt.title(f\"Boxplot of data set - Mode: {mode}\")\n",
    "plt.show()"
   ]
  },
  {
   "cell_type": "markdown",
   "metadata": {},
   "source": [
    "## Excercise\n",
    "\n",
    "You can test your learning of the introduction of central tendency measures next:"
   ]
  },
  {
   "cell_type": "code",
   "execution_count": null,
   "metadata": {},
   "outputs": [],
   "source": [
    "class test:\n",
    "    def __init__(self):\n",
    "        self.questions = list()\n",
    "        self.answers = list()\n",
    "        self.correct_answers = 0\n",
    "        self.score = 0\n",
    "\n",
    "    def add_element(self, q, a):\n",
    "        self.questions.append(q)\n",
    "        self.answers.append(a)\n",
    "\n",
    "    def remove_element(self, index):\n",
    "        self.questions.pop(index)\n",
    "        self.answers.pop(index)\n",
    "        \n",
    "    def show_answer(self, index):\n",
    "        print(f\"Q{index}: {self.questions[index-1]} - Ans_{index}: {self.answers[index-1]}\")\n",
    "    \n",
    "    def show_answers(self):\n",
    "        for index, (q, a) in enumerate(zip(self.questions, self.answers)):\n",
    "            print(f\"Q{index+1}: {q} - Ans_{index+1}: {a}\")\n",
    "    \n",
    "    def build_from_csv(self, filename):\n",
    "        df = pd.read_csv(filename)\n",
    "        for index in range(df.shape[0]):\n",
    "            self.add_element(df['Questions'][index], df['Answers'][index])\n",
    "    \n",
    "    def visualize_score(self):\n",
    "        fig = go.Figure(data=[go.Pie(labels=[\"Correct\", \"Incorrect\"],\n",
    "                                     values=[self.score, 100-self.score],\n",
    "                                     marker_colors=['rgb(10,100,10)', 'rgb(230,70,70)'],\n",
    "                                     hole=.3)])\n",
    "        fig.show()\n",
    "\n",
    "    def test(self):\n",
    "        self.correct_answers = 0\n",
    "        for index, (q, a) in enumerate(zip(self.questions, self.answers)):\n",
    "            current_answer = ''\n",
    "            while len(str(current_answer))==0:\n",
    "                current_answer = input(f\"Q{index+1}: \" + q)\n",
    "                if len(current_answer)>0:\n",
    "                    current_answer = float(current_answer)\n",
    "                    self.correct_answers += int(current_answer == a)\n",
    "                    if a==current_answer:\n",
    "                        print(\"Correct\")\n",
    "                    else:\n",
    "                        print(\"Incorrect\")\n",
    "        self.score =  100*np.sum(self.correct_answers)/len(self.questions)\n",
    "        \n",
    "        print(f\"Your score: {self.score}\")\n",
    "        self.visualize_score()"
   ]
  },
  {
   "cell_type": "code",
   "execution_count": null,
   "metadata": {},
   "outputs": [],
   "source": [
    "exam = test()\n",
    "exam.build_from_csv(\"https://raw.githubusercontent.com/Ricardo-DG/data_analytics_training/main/central_tendency_test.csv\")"
   ]
  },
  {
   "cell_type": "code",
   "execution_count": null,
   "metadata": {},
   "outputs": [],
   "source": [
    "# If you would like to see the answers uncomment and run the following line\n",
    "\n",
    "# exam.show_answers()"
   ]
  },
  {
   "cell_type": "code",
   "execution_count": null,
   "metadata": {},
   "outputs": [],
   "source": [
    "# If you would like to see a specific answer uncomment and run the following line\n",
    "# (make sure to replace \"index\" with the number of the question you want to know the answer).\n",
    "\n",
    "# exam.show_answer(index)"
   ]
  },
  {
   "cell_type": "code",
   "execution_count": null,
   "metadata": {},
   "outputs": [],
   "source": [
    "score = exam.test()"
   ]
  }
 ],
 "metadata": {
  "kernelspec": {
   "display_name": "Python 3",
   "language": "python",
   "name": "python3"
  },
  "language_info": {
   "codemirror_mode": {
    "name": "ipython",
    "version": 3
   },
   "file_extension": ".py",
   "mimetype": "text/x-python",
   "name": "python",
   "nbconvert_exporter": "python",
   "pygments_lexer": "ipython3",
   "version": "3.7.4"
  }
 },
 "nbformat": 4,
 "nbformat_minor": 2
}
