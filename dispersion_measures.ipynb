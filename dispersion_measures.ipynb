{
 "cells": [
  {
   "cell_type": "markdown",
   "metadata": {},
   "source": [
    "# Dispersion Measures\n",
    "\n",
    "This notebook is intended to provide a brief introduction to the dispersion measures (range, standard deviation and variance).\n",
    "\n",
    "In statistics, the measures of dispersion help to interpret the variability of data i.e. to know how much homogenous or heterogeneous the data is. In simple terms, it shows how squeezed or scattered the variable is."
   ]
  },
  {
   "cell_type": "markdown",
   "metadata": {},
   "source": [
    "## Range\n",
    "\n",
    "### Definition\n",
    "The difference between the lowest and highest values. It can give you a rough idea of how the outcome of the data set will be before you look at it actually.\n",
    "\n",
    "### Formula / Procedure to find it\n",
    "\n",
    "The equation to get the range is simple and it is shown next: $\\displaystyle R = x_{max} - x_{min}$ <br>\n",
    "It is the substraction of the maximum value of the dataset and the minimum value."
   ]
  },
  {
   "cell_type": "markdown",
   "metadata": {},
   "source": [
    "### Visualization"
   ]
  },
  {
   "cell_type": "code",
   "execution_count": null,
   "metadata": {},
   "outputs": [],
   "source": [
    "import numpy as np\n",
    "import pandas as pd\n",
    "import seaborn as sns\n",
    "import matplotlib.pyplot as plt\n",
    "import plotly.graph_objects as go\n",
    "from plotly.subplots import make_subplots"
   ]
  },
  {
   "cell_type": "markdown",
   "metadata": {},
   "source": [
    "### Creating the data set"
   ]
  },
  {
   "cell_type": "code",
   "execution_count": null,
   "metadata": {},
   "outputs": [],
   "source": [
    "data_set = [5,  2,  6, 10,  9,  3,  1,  9,  6,  2,  1,  4,  6,  5,  0,  4,  6,\n",
    "            5,  4,  6,  3,  0,  2,  8,  6,  7,  8,  0,  4,  7,  0,  1,  0,  8,\n",
    "            2,  0, 10,  2,  6,  6,  0,  5,  2,  0, 10,  3,  9,  8,  4,  7,  6,\n",
    "            1, 10,  7, 10,  3,  0,  6,  5,  8,  4,  3,  7,  3,  1,  5,  3,  0,\n",
    "            3,  3,  1,  2,  1,  5,  0,  5,  8,  1, 10,  7,  8,  6,  9,  3,  3,\n",
    "            7,  3,  4, 10,  8,  2,  0,  0,  2,  9,  0,  5,  5,  5,  6]"
   ]
  },
  {
   "cell_type": "markdown",
   "metadata": {},
   "source": [
    "The range can be easily visualized with two points. A 1D or 2D plot should be enough to visualize the space in which the dataset exists. Also a boxplot would be useful as it shows the limits and some quartiles of the data."
   ]
  },
  {
   "cell_type": "code",
   "execution_count": null,
   "metadata": {},
   "outputs": [],
   "source": [
    "fig = go.Figure(data=go.Scatter(y=data_set, mode='markers+lines'))\n",
    "fig.update_layout(height=600, width=1000, title_text=f\"Distribution of data set\")\n",
    "fig.show()"
   ]
  },
  {
   "cell_type": "code",
   "execution_count": null,
   "metadata": {},
   "outputs": [],
   "source": [
    "fig = make_subplots(rows=2, cols=1)\n",
    "\n",
    "fig.add_trace(\n",
    "    go.Scatter(y=data_set,\n",
    "               name=\"2D data_set\"),\n",
    "    row=1, col=1\n",
    ")\n",
    "\n",
    "fig.add_trace(\n",
    "    go.Scatter(x=[0, 99], y=[np.min(data_set), np.min(data_set)],\n",
    "               name=\"2D min\"),\n",
    "    row=1, col=1\n",
    ")\n",
    "\n",
    "fig.add_trace(\n",
    "    go.Scatter(x=[0, 99], y=[np.max(data_set), np.max(data_set)],\n",
    "               name=\"2D max\"),\n",
    "    row=1, col=1\n",
    ")\n",
    "\n",
    "fig.add_trace(\n",
    "    go.Scatter(x=data_set, y=np.zeros(len(data_set)),\n",
    "               mode='markers',\n",
    "               name=\"1D data_set\"),\n",
    "    row=2, col=1\n",
    ")\n",
    "\n",
    "fig.add_trace(\n",
    "    go.Scatter(x=[np.min(data_set)], y=[0],\n",
    "               mode='markers',\n",
    "               name=\"1D min\"),\n",
    "    row=2, col=1\n",
    ")\n",
    "\n",
    "fig.add_trace(\n",
    "    go.Scatter(x=[np.max(data_set)], y=[0],\n",
    "               mode='markers',\n",
    "               name=\"1D max\"),\n",
    "    row=2, col=1\n",
    ")\n",
    "\n",
    "fig.update_layout(height=600, width=1000, title_text=f\"Distribution of data set - Mean: {np.mean(data_set)}\")\n",
    "fig.show()"
   ]
  },
  {
   "cell_type": "code",
   "execution_count": null,
   "metadata": {},
   "outputs": [],
   "source": [
    "plt.figure(figsize=(16,4))\n",
    "plt.boxplot(data_set, 'h', vert=False)\n",
    "plt.vlines(x=np.min(data_set), ymin=0.9, ymax=1.1, colors='r')\n",
    "plt.vlines(x=np.max(data_set), ymin=0.9, ymax=1.1, colors='r')\n",
    "plt.ylim([0.9,1.1])\n",
    "plt.title(f\"Boxplot of data set - Min: {np.min(data_set)} - Max: {np.max(data_set)}\")\n",
    "plt.show()"
   ]
  },
  {
   "cell_type": "markdown",
   "metadata": {},
   "source": [
    "Note: Good representations of RANGE are 1d, 2D and boxplots."
   ]
  },
  {
   "cell_type": "markdown",
   "metadata": {},
   "source": [
    "## Standard Deviation\n",
    "\n",
    "### Definition\n",
    "The standard deviation is a measure of the amount of variation or dispersion of a set of values. A low standard deviation indicates that the values tend to be close to the mean (also called the expected value) of the set, while a high standard deviation indicates that the values are spread out over a wider range.\n",
    "\n",
    "One common usage of standard deviation is the concept of 1, 2 and 3 sigma ($\\sigma$) which represents the amount of control in certain process, being this the range of data inside 1, 2 or 3 standard deviation (mean +/- std).\n",
    "\n",
    "### Formula / Procedure to find it\n",
    "\n",
    "To find the standard deviation you must perform the next equation: $\\displaystyle \\sigma = \\sqrt{\\frac{\\sum\\mid x - \\bar{x}\\mid^2}{n}}$"
   ]
  },
  {
   "cell_type": "markdown",
   "metadata": {},
   "source": [
    "### Creating the data set"
   ]
  },
  {
   "cell_type": "markdown",
   "metadata": {},
   "source": [
    "We will be using the same dataset (previously created)."
   ]
  },
  {
   "cell_type": "code",
   "execution_count": null,
   "metadata": {},
   "outputs": [],
   "source": [
    "fig = go.Figure(data=go.Scatter(y=data_set, mode='markers+lines'))\n",
    "fig.update_layout(height=600, width=1000, title_text=f\"Distribution of data set\")\n",
    "fig.show()"
   ]
  },
  {
   "cell_type": "code",
   "execution_count": null,
   "metadata": {},
   "outputs": [],
   "source": [
    "mean = np.mean(data_set)\n",
    "\n",
    "fig = make_subplots(rows=1, cols=1)\n",
    "\n",
    "fig.add_trace(\n",
    "    go.Scatter(y=data_set,\n",
    "               name=\"data_set\"),\n",
    "    row=1, col=1\n",
    ")\n",
    "\n",
    "fig.add_trace(\n",
    "    go.Scatter(x=[0, 99], y=[mean-np.std(data_set), mean-np.std(data_set)],\n",
    "               name=\"1 Standard Deviation\"),\n",
    "    row=1, col=1\n",
    ")\n",
    "\n",
    "fig.add_trace(\n",
    "    go.Scatter(x=[0, 99], y=[mean+np.std(data_set), mean+np.std(data_set)],\n",
    "               name=\"1 Standard Deviation\"),\n",
    "    row=1, col=1\n",
    ")\n",
    "\n",
    "fig.update_layout(height=600, width=1000, title_text=f\"Distribution of data set - Standard Deviation: {np.std(data_set)}\")\n",
    "fig.show()"
   ]
  },
  {
   "cell_type": "code",
   "execution_count": null,
   "metadata": {},
   "outputs": [],
   "source": [
    "plt.figure(figsize=(16,8))\n",
    "plt.subplot(2,1,1)\n",
    "sns.distplot(data_set)\n",
    "plt.vlines(x=np.mean(data_set)-np.std(data_set), ymin=0, ymax=0.12, colors='r')\n",
    "plt.vlines(x=np.mean(data_set)+np.std(data_set), ymin=0, ymax=0.12, colors='r')\n",
    "plt.vlines(x=np.mean(data_set)-2*np.std(data_set), ymin=0, ymax=0.12, colors='g')\n",
    "plt.vlines(x=np.mean(data_set)+2*np.std(data_set), ymin=0, ymax=0.12, colors='g')\n",
    "plt.vlines(x=np.mean(data_set)-3*np.std(data_set), ymin=0, ymax=0.12, colors='b')\n",
    "plt.vlines(x=np.mean(data_set)+3*np.std(data_set), ymin=0, ymax=0.12, colors='b')\n",
    "plt.ylim([0,0.12])\n",
    "plt.legend([\"-1 Std\", \"+1 Std\", \"-2 Std\", \"+2 Std\", \"-3 Std\", \"+3 Std\", \"Distribution\"])\n",
    "plt.title(f\"Distribution of data set - Standard Deviation: {np.std(data_set)}\")\n",
    "\n",
    "plt.subplot(2,1,2)\n",
    "plt.boxplot(data_set, 'h', vert=False)\n",
    "plt.vlines(x=np.mean(data_set)-np.std(data_set), ymin=0.9, ymax=1.1, colors='r')\n",
    "plt.vlines(x=np.mean(data_set)+np.std(data_set), ymin=0.9, ymax=1.1, colors='r')\n",
    "plt.vlines(x=np.mean(data_set)-2*np.std(data_set), ymin=0.9, ymax=1.1, colors='g')\n",
    "plt.vlines(x=np.mean(data_set)+2*np.std(data_set), ymin=0.9, ymax=1.1, colors='g')\n",
    "plt.vlines(x=np.mean(data_set)-3*np.std(data_set), ymin=0.9, ymax=1.1, colors='b')\n",
    "plt.vlines(x=np.mean(data_set)+3*np.std(data_set), ymin=0.9, ymax=1.1, colors='b')\n",
    "plt.ylim([0.9,1.1])\n",
    "plt.title(f\"Boxplot of data set - Standard Deviation: {np.std(data_set)}\")\n",
    "plt.show()"
   ]
  },
  {
   "cell_type": "markdown",
   "metadata": {},
   "source": [
    "Note: Distplots and boxplots are a good way to observe the STANDARD DEVIATION."
   ]
  },
  {
   "cell_type": "markdown",
   "metadata": {},
   "source": [
    "## Variance\n",
    "\n",
    "### Definition\n",
    "Variance is the expectation of the squared deviation of a random variable from its mean. Informally, it measures how far a set of numbers is spread out from their average value. Variance is important to get the normal distribution of a dataset. It is hard to use variance in most applications, so we use standard deviation. But variance has some advantages in the field of math theory. Also for the correlation of variables it is fundamental.\n",
    "\n",
    "### Formula / Procedure to find it\n",
    "\n",
    "To find the variance you must perform the next equation: $\\displaystyle \\sigma^2 = \\frac{\\sum\\mid x - \\bar{x}\\mid^2}{n}$"
   ]
  },
  {
   "cell_type": "markdown",
   "metadata": {},
   "source": [
    "We will be using the first data set (the one used in RANGE and STANDARD DEVIATION section).<br>"
   ]
  },
  {
   "cell_type": "code",
   "execution_count": null,
   "metadata": {},
   "outputs": [],
   "source": [
    "fig = go.Figure(data=go.Scatter(y=data_set, mode='markers+lines'))\n",
    "fig.update_layout(height=600, width=1000, title_text=f\"Distribution of data set\")\n",
    "fig.show()"
   ]
  },
  {
   "cell_type": "code",
   "execution_count": null,
   "metadata": {},
   "outputs": [],
   "source": [
    "mean = np.mean(data_set)\n",
    "\n",
    "fig = make_subplots(rows=1, cols=1)\n",
    "\n",
    "fig.add_trace(\n",
    "    go.Scatter(y=data_set,\n",
    "               name=\"data_set\"),\n",
    "    row=1, col=1\n",
    ")\n",
    "\n",
    "# fig.add_trace(\n",
    "#     go.Scatter(y=np.power(data_set,2),\n",
    "#                name=\"data_set_squared\"),\n",
    "#     row=1, col=1\n",
    "# )\n",
    "\n",
    "fig.add_trace(\n",
    "    go.Scatter(x=[0, 99], y=[mean-np.var(data_set), mean-np.var(data_set)],\n",
    "               name=\"Variance\"),\n",
    "    row=1, col=1\n",
    ")\n",
    "\n",
    "fig.add_trace(\n",
    "    go.Scatter(x=[0, 99], y=[mean+np.var(data_set), mean+np.var(data_set)],\n",
    "               name=\"Variance\"),\n",
    "    row=1, col=1\n",
    ")\n",
    "\n",
    "fig.update_layout(height=600, width=1000, title_text=f\"Distribution of data set - Variance: {np.var(data_set)}\")\n",
    "fig.show()"
   ]
  },
  {
   "cell_type": "code",
   "execution_count": null,
   "metadata": {},
   "outputs": [],
   "source": [
    "plt.figure(figsize=(16,8))\n",
    "plt.subplot(2,1,1)\n",
    "sns.distplot(data_set)\n",
    "plt.vlines(x=np.mean(data_set)-np.var(data_set), ymin=0, ymax=0.12, colors='r')\n",
    "plt.vlines(x=np.mean(data_set)+np.var(data_set), ymin=0, ymax=0.12, colors='r')\n",
    "plt.ylim([0,0.12])\n",
    "plt.legend([\"-1 Std\", \"+1 Std\",\"Distribution\"])\n",
    "plt.title(f\"Distribution of data set - Standard Deviation: {np.std(data_set)}\")\n",
    "\n",
    "plt.subplot(2,1,2)\n",
    "plt.boxplot(data_set, 'h', vert=False)\n",
    "plt.vlines(x=np.mean(data_set)-np.var(data_set), ymin=0.9, ymax=1.1, colors='r')\n",
    "plt.vlines(x=np.mean(data_set)+np.var(data_set), ymin=0.9, ymax=1.1, colors='r')\n",
    "plt.ylim([0.9,1.1])\n",
    "plt.title(f\"Boxplot of data set - Standard Deviation: {np.std(data_set)}\")\n",
    "plt.show()"
   ]
  },
  {
   "cell_type": "markdown",
   "metadata": {},
   "source": [
    "You can observe that variance sets the limits of a normal distribution as it theoreticaly determines how spread the values could be for certain distribution."
   ]
  },
  {
   "cell_type": "markdown",
   "metadata": {},
   "source": [
    "## Excercise\n",
    "\n",
    "You can test your learning of the introduction of central tendency measures next:"
   ]
  },
  {
   "cell_type": "code",
   "execution_count": null,
   "metadata": {},
   "outputs": [],
   "source": [
    "class test:\n",
    "    def __init__(self):\n",
    "        self.questions = list()\n",
    "        self.answers = list()\n",
    "        self.correct_answers = 0\n",
    "        self.score = 0\n",
    "\n",
    "    def add_element(self, q, a):\n",
    "        self.questions.append(q)\n",
    "        self.answers.append(a)\n",
    "\n",
    "    def remove_element(self, index):\n",
    "        self.questions.pop(index)\n",
    "        self.answers.pop(index)\n",
    "        \n",
    "    def show_answer(self, index):\n",
    "        print(f\"Q{index}: {self.questions[index-1]} - Ans_{index}: {self.answers[index-1]}\")\n",
    "    \n",
    "    def show_answers(self):\n",
    "        for index, (q, a) in enumerate(zip(self.questions, self.answers)):\n",
    "            print(f\"Q{index+1}: {q} - Ans_{index+1}: {a}\")\n",
    "    \n",
    "    def build_from_csv(self, filename):\n",
    "        df = pd.read_csv(filename)\n",
    "        for index in range(df.shape[0]):\n",
    "            self.add_element(df['Questions'][index], df['Answers'][index])\n",
    "    \n",
    "    def visualize_score(self):\n",
    "        fig = go.Figure(data=[go.Pie(labels=[\"Correct\", \"Incorrect\"],\n",
    "                                     values=[self.score, 100-self.score],\n",
    "                                     marker_colors=['rgb(10,100,10)', 'rgb(230,70,70)'],\n",
    "                                     hole=.3)])\n",
    "        fig.show()\n",
    "\n",
    "    def test(self):\n",
    "        self.correct_answers = 0\n",
    "        for index, (q, a) in enumerate(zip(self.questions, self.answers)):\n",
    "            current_answer = ''\n",
    "            while len(str(current_answer))==0:\n",
    "                current_answer = input(f\"Q{index+1}: \" + q)\n",
    "                if len(current_answer)>0:\n",
    "                    current_answer = np.round(float(current_answer),2)\n",
    "                    self.correct_answers += int(current_answer == a)\n",
    "                    if a==current_answer:\n",
    "                        print(\"Correct\")\n",
    "                    else:\n",
    "                        print(\"Incorrect\")\n",
    "        self.score =  100*np.sum(self.correct_answers)/len(self.questions)\n",
    "        \n",
    "        print(f\"Your score: {self.score}\")\n",
    "        self.visualize_score()"
   ]
  },
  {
   "cell_type": "code",
   "execution_count": null,
   "metadata": {},
   "outputs": [],
   "source": [
    "exam = test()\n",
    "exam.build_from_csv(\"https://raw.githubusercontent.com/Ricardo-DG/data_analytics_training/main/dispersion_test.csv\")"
   ]
  },
  {
   "cell_type": "code",
   "execution_count": null,
   "metadata": {},
   "outputs": [],
   "source": [
    "# If you would like to see the answers uncomment and run the following line\n",
    "\n",
    "# exam.show_answers()"
   ]
  },
  {
   "cell_type": "code",
   "execution_count": null,
   "metadata": {},
   "outputs": [],
   "source": [
    "# If you would like to see a specific answer uncomment and run the following line\n",
    "# (make sure to replace \"index\" with the number of the question you want to know the answer).\n",
    "\n",
    "# exam.show_answer(index)"
   ]
  },
  {
   "cell_type": "code",
   "execution_count": null,
   "metadata": {},
   "outputs": [],
   "source": [
    "score = exam.test()"
   ]
  }
 ],
 "metadata": {
  "kernelspec": {
   "display_name": "Python 3",
   "language": "python",
   "name": "python3"
  },
  "language_info": {
   "codemirror_mode": {
    "name": "ipython",
    "version": 3
   },
   "file_extension": ".py",
   "mimetype": "text/x-python",
   "name": "python",
   "nbconvert_exporter": "python",
   "pygments_lexer": "ipython3",
   "version": "3.7.4"
  }
 },
 "nbformat": 4,
 "nbformat_minor": 2
}
